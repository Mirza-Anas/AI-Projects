{
 "cells": [
  {
   "cell_type": "code",
   "execution_count": 1,
   "id": "7f4f3ad7-47bc-4828-9361-9ebb430bbc80",
   "metadata": {},
   "outputs": [],
   "source": [
    "import numpy as np"
   ]
  },
  {
   "cell_type": "markdown",
   "id": "9c23d6f0-1bda-452a-b00b-c3b3f453024f",
   "metadata": {},
   "source": [
    "## data types and attributes"
   ]
  },
  {
   "cell_type": "markdown",
   "id": "5555273b-cb29-47bb-9d61-49d17e5044f6",
   "metadata": {},
   "source": [
    "### numpy main data type is ndarray n-dimensional array "
   ]
  },
  {
   "cell_type": "code",
   "execution_count": 2,
   "id": "07fd1c27-6f27-481e-a6b4-6635c5c5a867",
   "metadata": {},
   "outputs": [
    {
     "data": {
      "text/plain": [
       "array([1, 2, 3])"
      ]
     },
     "execution_count": 2,
     "metadata": {},
     "output_type": "execute_result"
    }
   ],
   "source": [
    "a1 = np.array([1,2,3])\n",
    "a1"
   ]
  },
  {
   "cell_type": "code",
   "execution_count": 3,
   "id": "b7ad869f-669b-4837-b03a-2bcd6d8af743",
   "metadata": {},
   "outputs": [
    {
     "data": {
      "text/plain": [
       "numpy.ndarray"
      ]
     },
     "execution_count": 3,
     "metadata": {},
     "output_type": "execute_result"
    }
   ],
   "source": [
    "type(a1)"
   ]
  },
  {
   "cell_type": "code",
   "execution_count": 4,
   "id": "cab60458-8951-474d-b890-69b24f6d8664",
   "metadata": {},
   "outputs": [],
   "source": [
    " a2 = np.array([\n",
    "     [[1,2,3],\n",
    "      [1,2,3],\n",
    "      [1,2,3]],\n",
    "     [[1,2,3],\n",
    "      [1,2,3],\n",
    "      [1,2,3]]\n",
    " ])"
   ]
  },
  {
   "cell_type": "code",
   "execution_count": 5,
   "id": "477ace80-0770-4500-ab4a-cb69698ec02a",
   "metadata": {},
   "outputs": [
    {
     "data": {
      "text/plain": [
       "((2, 3, 3), 3, numpy.ndarray, dtype('int32'), 18)"
      ]
     },
     "execution_count": 5,
     "metadata": {},
     "output_type": "execute_result"
    }
   ],
   "source": [
    "a2.shape, a2.ndim, type(a2), a2.dtype, a2.size"
   ]
  },
  {
   "cell_type": "markdown",
   "id": "d46dd99a-d494-45af-9e0e-ccf3cf72d87f",
   "metadata": {},
   "source": [
    "### create df from numpy array"
   ]
  },
  {
   "cell_type": "code",
   "execution_count": 6,
   "id": "8dc4e177-11f9-4b3d-a931-141f7c031679",
   "metadata": {},
   "outputs": [],
   "source": [
    "a3 = np.array([[1,2,3],[4,5,6]])"
   ]
  },
  {
   "cell_type": "code",
   "execution_count": 7,
   "id": "67667274-089c-44a8-b0f5-8082614c43f7",
   "metadata": {},
   "outputs": [],
   "source": [
    "import pandas as pd\n",
    "df = pd.DataFrame(a3)"
   ]
  },
  {
   "cell_type": "code",
   "execution_count": 8,
   "id": "b47da301-3779-440d-b443-dadf869d307c",
   "metadata": {},
   "outputs": [
    {
     "data": {
      "text/html": [
       "<div>\n",
       "<style scoped>\n",
       "    .dataframe tbody tr th:only-of-type {\n",
       "        vertical-align: middle;\n",
       "    }\n",
       "\n",
       "    .dataframe tbody tr th {\n",
       "        vertical-align: top;\n",
       "    }\n",
       "\n",
       "    .dataframe thead th {\n",
       "        text-align: right;\n",
       "    }\n",
       "</style>\n",
       "<table border=\"1\" class=\"dataframe\">\n",
       "  <thead>\n",
       "    <tr style=\"text-align: right;\">\n",
       "      <th></th>\n",
       "      <th>0</th>\n",
       "      <th>1</th>\n",
       "      <th>2</th>\n",
       "    </tr>\n",
       "  </thead>\n",
       "  <tbody>\n",
       "    <tr>\n",
       "      <th>0</th>\n",
       "      <td>1</td>\n",
       "      <td>2</td>\n",
       "      <td>3</td>\n",
       "    </tr>\n",
       "    <tr>\n",
       "      <th>1</th>\n",
       "      <td>4</td>\n",
       "      <td>5</td>\n",
       "      <td>6</td>\n",
       "    </tr>\n",
       "  </tbody>\n",
       "</table>\n",
       "</div>"
      ],
      "text/plain": [
       "   0  1  2\n",
       "0  1  2  3\n",
       "1  4  5  6"
      ]
     },
     "execution_count": 8,
     "metadata": {},
     "output_type": "execute_result"
    }
   ],
   "source": [
    "df"
   ]
  },
  {
   "cell_type": "markdown",
   "id": "78692355-1896-420b-bfa1-3b9564cf7f9c",
   "metadata": {},
   "source": [
    "## creating numpy arrays "
   ]
  },
  {
   "cell_type": "code",
   "execution_count": 9,
   "id": "70c2d1b7-63be-4799-bfb5-274620e8e584",
   "metadata": {},
   "outputs": [
    {
     "data": {
      "text/plain": [
       "array([[[1, 1, 1],\n",
       "        [1, 1, 1],\n",
       "        [1, 1, 1]],\n",
       "\n",
       "       [[1, 1, 1],\n",
       "        [1, 1, 1],\n",
       "        [1, 1, 1]]], dtype=int64)"
      ]
     },
     "execution_count": 9,
     "metadata": {},
     "output_type": "execute_result"
    }
   ],
   "source": [
    "ones = np.ones((2,3,3), dtype=\"int64\")\n",
    "ones"
   ]
  },
  {
   "cell_type": "code",
   "execution_count": 10,
   "id": "61865244-97e5-485f-8082-e7fabb7444a2",
   "metadata": {},
   "outputs": [
    {
     "data": {
      "text/plain": [
       "array([[0., 0.],\n",
       "       [0., 0.]])"
      ]
     },
     "execution_count": 10,
     "metadata": {},
     "output_type": "execute_result"
    }
   ],
   "source": [
    "zeros = np.zeros((2,2))\n",
    "zeros"
   ]
  },
  {
   "cell_type": "code",
   "execution_count": 11,
   "id": "44a3e1bc-0782-40c4-b558-56a7af8cdf87",
   "metadata": {},
   "outputs": [
    {
     "data": {
      "text/plain": [
       "(array([1, 3, 5, 7, 9]), dtype('int32'))"
      ]
     },
     "execution_count": 11,
     "metadata": {},
     "output_type": "execute_result"
    }
   ],
   "source": [
    "# arange is python range equivalent in numpy a1\n",
    "a4 = np.arange(1,10,2)\n",
    "a4, a4.dtype"
   ]
  },
  {
   "cell_type": "markdown",
   "id": "fc01280c-1cb0-4086-b869-158c54beafc2",
   "metadata": {},
   "source": [
    "### numpy random "
   ]
  },
  {
   "cell_type": "code",
   "execution_count": 12,
   "id": "be2e5256-1cf4-4112-a2ac-dcae78b40aca",
   "metadata": {},
   "outputs": [
    {
     "data": {
      "text/plain": [
       "array([[2, 3, 4, 1],\n",
       "       [1, 4, 1, 5]])"
      ]
     },
     "execution_count": 12,
     "metadata": {},
     "output_type": "execute_result"
    }
   ],
   "source": [
    "random_array = np.random.randint(1,10, size= (2,4))\n",
    "random_array"
   ]
  },
  {
   "cell_type": "code",
   "execution_count": 13,
   "id": "cef52992-2ade-4d3a-a4f5-34b5ad3c6457",
   "metadata": {},
   "outputs": [
    {
     "data": {
      "text/plain": [
       "array([[0.33064898, 0.35634017, 0.4764586 , 0.53961501],\n",
       "       [0.4011825 , 0.25557179, 0.11505281, 0.60329126],\n",
       "       [0.95585157, 0.90248312, 0.71660645, 0.46093967],\n",
       "       [0.4691532 , 0.74402801, 0.06870348, 0.90241587],\n",
       "       [0.43773055, 0.79981401, 0.97896979, 0.11865107]])"
      ]
     },
     "execution_count": 13,
     "metadata": {},
     "output_type": "execute_result"
    }
   ],
   "source": [
    "# another way \n",
    "random_2 = np.random.random((5,4))\n",
    "random_2"
   ]
  },
  {
   "cell_type": "code",
   "execution_count": 14,
   "id": "0306d4b6-32fa-4373-9a83-37dce1b46a90",
   "metadata": {},
   "outputs": [
    {
     "data": {
      "text/plain": [
       "array([[0.60710499, 0.7322715 , 0.75883441, 0.50628087],\n",
       "       [0.34005747, 0.568838  , 0.35230492, 0.75998749],\n",
       "       [0.01459014, 0.69566828, 0.38628844, 0.05357983]])"
      ]
     },
     "execution_count": 14,
     "metadata": {},
     "output_type": "execute_result"
    }
   ],
   "source": [
    "random_3  = np.random.rand(3,4)\n",
    "random_3"
   ]
  },
  {
   "cell_type": "markdown",
   "id": "974bb527-57a7-4c63-a526-95489b5e1501",
   "metadata": {},
   "source": [
    "# pseudo random number actually "
   ]
  },
  {
   "cell_type": "code",
   "execution_count": 15,
   "id": "ac6815c2-72b0-4d13-a688-f24ac7b1dda4",
   "metadata": {},
   "outputs": [
    {
     "data": {
      "text/plain": [
       "60"
      ]
     },
     "execution_count": 15,
     "metadata": {},
     "output_type": "execute_result"
    }
   ],
   "source": [
    "np.random.seed(1)\n",
    "random_4 = np.random.randint(100, size=(20,3))\n",
    "random_4.size "
   ]
  },
  {
   "cell_type": "markdown",
   "id": "5fa40994-1680-42a5-8a19-fe0ec46a9e3d",
   "metadata": {},
   "source": [
    "# viewing arrays and matrices "
   ]
  },
  {
   "cell_type": "code",
   "execution_count": 16,
   "id": "e5411ecc-4cf9-4841-8054-2c4073a0d03c",
   "metadata": {},
   "outputs": [
    {
     "data": {
      "text/plain": [
       "49"
      ]
     },
     "execution_count": 16,
     "metadata": {},
     "output_type": "execute_result"
    }
   ],
   "source": [
    "# find unique \n",
    "np.unique(random_4).size"
   ]
  },
  {
   "cell_type": "code",
   "execution_count": 17,
   "id": "4f1b2de6-51f8-412e-b616-f15273f40c2e",
   "metadata": {},
   "outputs": [
    {
     "data": {
      "text/plain": [
       "array([[[1, 2, 3],\n",
       "        [1, 2, 3],\n",
       "        [1, 2, 3]],\n",
       "\n",
       "       [[1, 2, 3],\n",
       "        [1, 2, 3],\n",
       "        [4, 5, 6]]])"
      ]
     },
     "execution_count": 17,
     "metadata": {},
     "output_type": "execute_result"
    }
   ],
   "source": [
    "a2[1,2] = [4,5,6]\n",
    "a2"
   ]
  },
  {
   "cell_type": "markdown",
   "id": "2d6529e2-383f-4aee-8c4f-f510d5d38468",
   "metadata": {},
   "source": [
    "## manipulating and comparing arrays"
   ]
  },
  {
   "cell_type": "code",
   "execution_count": 18,
   "id": "3c816c44-06d3-4d5b-955a-277994944f7f",
   "metadata": {},
   "outputs": [
    {
     "data": {
      "text/plain": [
       "array([1, 2, 3])"
      ]
     },
     "execution_count": 18,
     "metadata": {},
     "output_type": "execute_result"
    }
   ],
   "source": [
    "a1"
   ]
  },
  {
   "cell_type": "code",
   "execution_count": 19,
   "id": "fea3c37a-a914-4562-9f3e-9771c8a74111",
   "metadata": {},
   "outputs": [
    {
     "data": {
      "text/plain": [
       "array([1., 1., 1.])"
      ]
     },
     "execution_count": 19,
     "metadata": {},
     "output_type": "execute_result"
    }
   ],
   "source": [
    "one2 = np.ones((3))\n",
    "one2"
   ]
  },
  {
   "cell_type": "code",
   "execution_count": 20,
   "id": "9baf3d3a-9044-4c8d-a9d8-c76390c8ea5f",
   "metadata": {},
   "outputs": [
    {
     "data": {
      "text/plain": [
       "array([2., 3., 4.])"
      ]
     },
     "execution_count": 20,
     "metadata": {},
     "output_type": "execute_result"
    }
   ],
   "source": [
    "a1 + one2"
   ]
  },
  {
   "cell_type": "code",
   "execution_count": 21,
   "id": "ca34d654-e901-40e9-a630-1ea9bee7f716",
   "metadata": {},
   "outputs": [
    {
     "data": {
      "text/plain": [
       "array([0., 1., 2.])"
      ]
     },
     "execution_count": 21,
     "metadata": {},
     "output_type": "execute_result"
    }
   ],
   "source": [
    "a1 - one2"
   ]
  },
  {
   "cell_type": "code",
   "execution_count": 22,
   "id": "9d3ce08c-8192-4c51-a55c-fac4a010d764",
   "metadata": {},
   "outputs": [
    {
     "data": {
      "text/plain": [
       "array([[[1, 2, 3],\n",
       "        [1, 2, 3],\n",
       "        [1, 2, 3]],\n",
       "\n",
       "       [[1, 2, 3],\n",
       "        [1, 2, 3],\n",
       "        [4, 5, 6]]])"
      ]
     },
     "execution_count": 22,
     "metadata": {},
     "output_type": "execute_result"
    }
   ],
   "source": [
    "a2"
   ]
  },
  {
   "cell_type": "code",
   "execution_count": 23,
   "id": "6b80cf13-8990-4908-813e-184db5e4b539",
   "metadata": {},
   "outputs": [
    {
     "data": {
      "text/plain": [
       "array([[[1., 1., 1.],\n",
       "        [1., 1., 1.],\n",
       "        [1., 1., 1.]]])"
      ]
     },
     "execution_count": 23,
     "metadata": {},
     "output_type": "execute_result"
    }
   ],
   "source": [
    "ones = np.ones(shape=(1,3,3))\n",
    "ones"
   ]
  },
  {
   "cell_type": "code",
   "execution_count": 24,
   "id": "ea58ad71-111c-4ea2-9796-f5b126e86146",
   "metadata": {},
   "outputs": [
    {
     "data": {
      "text/plain": [
       "array([[[1., 2., 3.],\n",
       "        [1., 2., 3.],\n",
       "        [1., 2., 3.]],\n",
       "\n",
       "       [[1., 2., 3.],\n",
       "        [1., 2., 3.],\n",
       "        [4., 5., 6.]]])"
      ]
     },
     "execution_count": 24,
     "metadata": {},
     "output_type": "execute_result"
    }
   ],
   "source": [
    "a2 * ones"
   ]
  },
  {
   "cell_type": "markdown",
   "id": "c1f09e1c-3eb0-4363-ba21-29eea80e8c64",
   "metadata": {},
   "source": [
    "## Aggregation "
   ]
  },
  {
   "cell_type": "markdown",
   "id": "5c92ff67-dc8d-439d-8d43-e7fd635f4412",
   "metadata": {},
   "source": [
    "### aggregation = performing the same operation on a number of things"
   ]
  },
  {
   "cell_type": "code",
   "execution_count": 25,
   "id": "735d84a0-6e53-4dad-89b1-7fe4e0b2b0b3",
   "metadata": {},
   "outputs": [
    {
     "data": {
      "text/plain": [
       "45"
      ]
     },
     "execution_count": 25,
     "metadata": {},
     "output_type": "execute_result"
    }
   ],
   "source": [
    "np.sum(a2)"
   ]
  },
  {
   "cell_type": "code",
   "execution_count": 26,
   "id": "50a86922-eea8-49a5-a653-8fc43bd027bc",
   "metadata": {},
   "outputs": [
    {
     "data": {
      "text/plain": [
       "array([[2, 4, 6],\n",
       "       [2, 4, 6],\n",
       "       [5, 7, 9]])"
      ]
     },
     "execution_count": 26,
     "metadata": {},
     "output_type": "execute_result"
    }
   ],
   "source": [
    "sum(a2)"
   ]
  },
  {
   "cell_type": "code",
   "execution_count": 27,
   "id": "7ec8d3c9-05ba-45bf-8472-5bfa3aaa757f",
   "metadata": {},
   "outputs": [],
   "source": [
    "# always use python methods on python data types \n",
    "# and use numpy methods on numpy datatypes"
   ]
  },
  {
   "cell_type": "code",
   "execution_count": 28,
   "id": "9873f2fe-efef-41f0-98e5-ce230a87bc32",
   "metadata": {},
   "outputs": [
    {
     "data": {
      "text/plain": [
       "array([3, 9, 2, 0, 4, 9, 2, 7, 7, 9])"
      ]
     },
     "execution_count": 28,
     "metadata": {},
     "output_type": "execute_result"
    }
   ],
   "source": [
    "a2 = np.random.randint(10, size=(1000))\n",
    "a2[:10]"
   ]
  },
  {
   "cell_type": "code",
   "execution_count": 29,
   "id": "d257c9b2-e0de-4a58-b366-f0b6092968f8",
   "metadata": {},
   "outputs": [
    {
     "data": {
      "text/plain": [
       "0"
      ]
     },
     "execution_count": 29,
     "metadata": {},
     "output_type": "execute_result"
    }
   ],
   "source": [
    "np.min(a2)"
   ]
  },
  {
   "cell_type": "code",
   "execution_count": 30,
   "id": "12724312-fc6c-4f31-80a6-510de9012d07",
   "metadata": {},
   "outputs": [
    {
     "data": {
      "text/plain": [
       "9"
      ]
     },
     "execution_count": 30,
     "metadata": {},
     "output_type": "execute_result"
    }
   ],
   "source": [
    "np.max(a2)"
   ]
  },
  {
   "cell_type": "code",
   "execution_count": 31,
   "id": "477bf54e-ec15-4f6d-b1a5-16aaa429f04e",
   "metadata": {},
   "outputs": [
    {
     "data": {
      "text/plain": [
       "(4.443, 8.150751, 2.854952013607234, 2.854952013607234)"
      ]
     },
     "execution_count": 31,
     "metadata": {},
     "output_type": "execute_result"
    }
   ],
   "source": [
    "np.mean(a2), np.var(a2), np.std(a2), np.sqrt(np.var(a2))"
   ]
  },
  {
   "cell_type": "markdown",
   "id": "0065e718-0a9a-466b-8d1c-06fc78fd176b",
   "metadata": {},
   "source": [
    "## standard deviation and variance"
   ]
  },
  {
   "cell_type": "markdown",
   "id": "935b0f99-6db7-4341-babc-1d3b6c6ff031",
   "metadata": {},
   "source": [
    "### standard deviation = a measure of how spread out a group of data is with reference  to the mean"
   ]
  },
  {
   "cell_type": "markdown",
   "id": "583bfd36-d327-4129-975a-3b974353ce2f",
   "metadata": {},
   "source": [
    "### Varience = measure of the average degree to which each number is differnt from the mean"
   ]
  },
  {
   "cell_type": "code",
   "execution_count": 32,
   "id": "7b35a2ff-fd47-410a-ae0d-2e4d739ca9a3",
   "metadata": {},
   "outputs": [],
   "source": [
    "# demo of std and var \n",
    "highVar = np.array([1,10,100,1000,10000])\n",
    "lowVar = np.array([1,3,5,8,10])"
   ]
  },
  {
   "cell_type": "code",
   "execution_count": 33,
   "id": "876360a7-10de-45d1-ab20-55b5da161e68",
   "metadata": {},
   "outputs": [
    {
     "data": {
      "text/plain": [
       "(15263847.36, 10.64)"
      ]
     },
     "execution_count": 33,
     "metadata": {},
     "output_type": "execute_result"
    }
   ],
   "source": [
    "np.var(highVar), np.var(lowVar)"
   ]
  },
  {
   "cell_type": "code",
   "execution_count": 34,
   "id": "0e7eb565-e93a-41d9-b11e-6888e34fd1d3",
   "metadata": {},
   "outputs": [
    {
     "data": {
      "text/plain": [
       "(3906.8974084303773, 3.2619012860600183)"
      ]
     },
     "execution_count": 34,
     "metadata": {},
     "output_type": "execute_result"
    }
   ],
   "source": [
    "np.std(highVar), np.std(lowVar)"
   ]
  },
  {
   "cell_type": "code",
   "execution_count": 35,
   "id": "d5fe002d-b628-4cdc-8800-c9306bb97b7c",
   "metadata": {},
   "outputs": [
    {
     "data": {
      "text/plain": [
       "(2222.2, 5.4)"
      ]
     },
     "execution_count": 35,
     "metadata": {},
     "output_type": "execute_result"
    }
   ],
   "source": [
    "np.mean(highVar), np.mean(lowVar)"
   ]
  },
  {
   "cell_type": "code",
   "execution_count": 36,
   "id": "fb5d8d56-b1c1-4538-95e8-ae45c503f001",
   "metadata": {},
   "outputs": [
    {
     "data": {
      "text/plain": [
       "(array([4., 0., 0., 0., 0., 0., 0., 0., 0., 1.]),\n",
       " array([1.0000e+00, 1.0009e+03, 2.0008e+03, 3.0007e+03, 4.0006e+03,\n",
       "        5.0005e+03, 6.0004e+03, 7.0003e+03, 8.0002e+03, 9.0001e+03,\n",
       "        1.0000e+04]),\n",
       " <BarContainer object of 10 artists>)"
      ]
     },
     "execution_count": 36,
     "metadata": {},
     "output_type": "execute_result"
    },
    {
     "data": {
      "image/png": "[encoded data removed]",
      "text/plain": [
       "<Figure size 640x480 with 1 Axes>"
      ]
     },
     "metadata": {},
     "output_type": "display_data"
    }
   ],
   "source": [
    "%matplotlib inline\n",
    "import matplotlib.pyplot as plt \n",
    "plt.hist(highVar)"
   ]
  },
  {
   "cell_type": "code",
   "execution_count": 37,
   "id": "619095bd-3ae5-48ce-a1ff-78a19a30e43b",
   "metadata": {},
   "outputs": [
    {
     "data": {
      "text/plain": [
       "(array([1., 0., 1., 0., 1., 0., 0., 1., 0., 1.]),\n",
       " array([ 1. ,  1.9,  2.8,  3.7,  4.6,  5.5,  6.4,  7.3,  8.2,  9.1, 10. ]),\n",
       " <BarContainer object of 10 artists>)"
      ]
     },
     "execution_count": 37,
     "metadata": {},
     "output_type": "execute_result"
    },
    {
     "data": {
      "image/png": "[encoded data removed]",
      "text/plain": [
       "<Figure size 640x480 with 1 Axes>"
      ]
     },
     "metadata": {},
     "output_type": "display_data"
    }
   ],
   "source": [
    "plt.hist(lowVar)"
   ]
  },
  {
   "cell_type": "markdown",
   "id": "f0844041-1035-4c88-81d1-a0b02df12bfb",
   "metadata": {},
   "source": [
    " ## Reshape and transpose "
   ]
  },
  {
   "cell_type": "code",
   "execution_count": 38,
   "id": "c0c879ba-a277-49c4-bdf1-d502bdd76f51",
   "metadata": {},
   "outputs": [
    {
     "data": {
      "text/plain": [
       "array([[1, 2, 3],\n",
       "       [4, 5, 6]])"
      ]
     },
     "execution_count": 38,
     "metadata": {},
     "output_type": "execute_result"
    }
   ],
   "source": [
    "a3 = np.array([[1,2,3],[4,5,6]])\n",
    "a3"
   ]
  },
  {
   "cell_type": "code",
   "execution_count": 42,
   "id": "f882aa4f-d8ec-4841-b448-cf8745f706e9",
   "metadata": {},
   "outputs": [
    {
     "data": {
      "text/plain": [
       "array([[[ 1,  2,  3],\n",
       "        [ 4,  5,  6],\n",
       "        [ 7,  8,  9]],\n",
       "\n",
       "       [[10, 11, 12],\n",
       "        [13, 14, 15],\n",
       "        [16, 17, 16]]])"
      ]
     },
     "execution_count": 42,
     "metadata": {},
     "output_type": "execute_result"
    }
   ],
   "source": [
    " a2 = np.array([\n",
    "     [[1,2,3],\n",
    "     [4,5,6],\n",
    "     [7,8,9]],\n",
    "    [[10,11,12],\n",
    "    [13,14,15], \n",
    "    [16,17,16]] \n",
    "    ])\n",
    "a2 "
   ]
  },
  {
   "cell_type": "code",
   "execution_count": 53,
   "id": "c7443f68-68a0-4288-8441-5fc22a95457a",
   "metadata": {},
   "outputs": [
    {
     "data": {
      "text/plain": [
       "array([[[1],\n",
       "        [2],\n",
       "        [3]],\n",
       "\n",
       "       [[4],\n",
       "        [5],\n",
       "        [6]]])"
      ]
     },
     "execution_count": 53,
     "metadata": {},
     "output_type": "execute_result"
    }
   ],
   "source": [
    "a3_reshape = a3.reshape(2,3,1)\n",
    "a3_reshape"
   ]
  },
  {
   "cell_type": "code",
   "execution_count": 54,
   "id": "0779e9d1-eb58-4bb5-868c-99dff0a5e36c",
   "metadata": {},
   "outputs": [
    {
     "data": {
      "text/plain": [
       "array([[[  1,   2,   3],\n",
       "        [  8,  10,  12],\n",
       "        [ 21,  24,  27]],\n",
       "\n",
       "       [[ 40,  44,  48],\n",
       "        [ 65,  70,  75],\n",
       "        [ 96, 102,  96]]])"
      ]
     },
     "execution_count": 54,
     "metadata": {},
     "output_type": "execute_result"
    }
   ],
   "source": [
    "a3_reshape * a2"
   ]
  },
  {
   "cell_type": "code",
   "execution_count": 57,
   "id": "a7351e72-62bd-4e2f-a5de-b30664d70833",
   "metadata": {},
   "outputs": [
    {
     "data": {
      "text/plain": [
       "(3, 3, 2)"
      ]
     },
     "execution_count": 57,
     "metadata": {},
     "output_type": "execute_result"
    }
   ],
   "source": [
    "a2.T.shape"
   ]
  },
  {
   "cell_type": "markdown",
   "id": "df8bc3ca-4da5-4d81-827b-c4f410cfaf33",
   "metadata": {},
   "source": [
    "## Dot Product "
   ]
  },
  {
   "cell_type": "code",
   "execution_count": 79,
   "id": "5e814090-9434-4117-b0e1-ea0e229c5f01",
   "metadata": {},
   "outputs": [],
   "source": [
    "np.random.seed(2)\n",
    "mat1 = np.random.randint(3, size = (10,4))\n",
    "np.random.seed(1)\n",
    "mat2 = np.random.randint(3, size = (4,12))"
   ]
  },
  {
   "cell_type": "code",
   "execution_count": 80,
   "id": "f9adb0fa-389e-4f76-930b-672e953fec11",
   "metadata": {},
   "outputs": [
    {
     "data": {
      "text/plain": [
       "array([[0, 1, 0, 2],\n",
       "       [2, 0, 2, 1],\n",
       "       [1, 2, 0, 0],\n",
       "       [0, 1, 2, 0],\n",
       "       [2, 2, 2, 1],\n",
       "       [2, 0, 1, 0],\n",
       "       [0, 2, 2, 1],\n",
       "       [2, 0, 0, 2],\n",
       "       [0, 2, 0, 2],\n",
       "       [1, 2, 0, 2]])"
      ]
     },
     "execution_count": 80,
     "metadata": {},
     "output_type": "execute_result"
    }
   ],
   "source": [
    "mat1"
   ]
  },
  {
   "cell_type": "code",
   "execution_count": 81,
   "id": "01b681fa-43cf-4f63-ade9-8af6d1d72773",
   "metadata": {},
   "outputs": [
    {
     "data": {
      "text/plain": [
       "array([[1, 0, 0, 1, 1, 0, 0, 1, 0, 1, 0, 2],\n",
       "       [1, 2, 0, 2, 1, 2, 0, 0, 2, 0, 1, 2],\n",
       "       [2, 0, 1, 1, 2, 0, 2, 1, 1, 1, 1, 2],\n",
       "       [1, 1, 0, 0, 1, 0, 0, 1, 2, 1, 0, 2]])"
      ]
     },
     "execution_count": 81,
     "metadata": {},
     "output_type": "execute_result"
    }
   ],
   "source": [
    "mat2"
   ]
  },
  {
   "cell_type": "code",
   "execution_count": 82,
   "id": "52cb3aa6-e1b6-4489-acd1-41f870ad3fab",
   "metadata": {},
   "outputs": [
    {
     "data": {
      "text/plain": [
       "array([[ 3,  4,  0,  2,  3,  2,  0,  2,  6,  2,  1,  6],\n",
       "       [ 7,  1,  2,  4,  7,  0,  4,  5,  4,  5,  2, 10],\n",
       "       [ 3,  4,  0,  5,  3,  4,  0,  1,  4,  1,  2,  6],\n",
       "       [ 5,  2,  2,  4,  5,  2,  4,  2,  4,  2,  3,  6],\n",
       "       [ 9,  5,  2,  8,  9,  4,  4,  5,  8,  5,  4, 14],\n",
       "       [ 4,  0,  1,  3,  4,  0,  2,  3,  1,  3,  1,  6],\n",
       "       [ 7,  5,  2,  6,  7,  4,  4,  3,  8,  3,  4, 10],\n",
       "       [ 4,  2,  0,  2,  4,  0,  0,  4,  4,  4,  0,  8],\n",
       "       [ 4,  6,  0,  4,  4,  4,  0,  2,  8,  2,  2,  8],\n",
       "       [ 5,  6,  0,  5,  5,  4,  0,  3,  8,  3,  2, 10]])"
      ]
     },
     "execution_count": 82,
     "metadata": {},
     "output_type": "execute_result"
    }
   ],
   "source": [
    "np.dot(mat1 , mat2)"
   ]
  },
  {
   "cell_type": "code",
   "execution_count": 102,
   "id": "b1f531ef-44eb-46e3-9fd3-25dc7f9f17c0",
   "metadata": {},
   "outputs": [
    {
     "data": {
      "text/plain": [
       "array([[6, 1, 4],\n",
       "       [4, 8, 4],\n",
       "       [6, 3, 5],\n",
       "       [8, 7, 9],\n",
       "       [9, 2, 7]])"
      ]
     },
     "execution_count": 102,
     "metadata": {},
     "output_type": "execute_result"
    }
   ],
   "source": [
    " import pandas as pd \n",
    "np.random.seed(0)\n",
    "daily_sales = np.random.randint(1,10, size = (5,3))\n",
    "daily_sales"
   ]
  },
  {
   "cell_type": "code",
   "execution_count": 103,
   "id": "58235fa5-8ece-477b-82b7-a8c0388b97f7",
   "metadata": {},
   "outputs": [
    {
     "data": {
      "text/html": [
       "<div>\n",
       "<style scoped>\n",
       "    .dataframe tbody tr th:only-of-type {\n",
       "        vertical-align: middle;\n",
       "    }\n",
       "\n",
       "    .dataframe tbody tr th {\n",
       "        vertical-align: top;\n",
       "    }\n",
       "\n",
       "    .dataframe thead th {\n",
       "        text-align: right;\n",
       "    }\n",
       "</style>\n",
       "<table border=\"1\" class=\"dataframe\">\n",
       "  <thead>\n",
       "    <tr style=\"text-align: right;\">\n",
       "      <th></th>\n",
       "      <th>Shirt</th>\n",
       "      <th>Tshirt</th>\n",
       "      <th>pants</th>\n",
       "    </tr>\n",
       "  </thead>\n",
       "  <tbody>\n",
       "    <tr>\n",
       "      <th>Mon</th>\n",
       "      <td>6</td>\n",
       "      <td>1</td>\n",
       "      <td>4</td>\n",
       "    </tr>\n",
       "    <tr>\n",
       "      <th>Tue</th>\n",
       "      <td>4</td>\n",
       "      <td>8</td>\n",
       "      <td>4</td>\n",
       "    </tr>\n",
       "    <tr>\n",
       "      <th>Wed</th>\n",
       "      <td>6</td>\n",
       "      <td>3</td>\n",
       "      <td>5</td>\n",
       "    </tr>\n",
       "    <tr>\n",
       "      <th>Thu</th>\n",
       "      <td>8</td>\n",
       "      <td>7</td>\n",
       "      <td>9</td>\n",
       "    </tr>\n",
       "    <tr>\n",
       "      <th>Fri</th>\n",
       "      <td>9</td>\n",
       "      <td>2</td>\n",
       "      <td>7</td>\n",
       "    </tr>\n",
       "  </tbody>\n",
       "</table>\n",
       "</div>"
      ],
      "text/plain": [
       "     Shirt  Tshirt  pants\n",
       "Mon      6       1      4\n",
       "Tue      4       8      4\n",
       "Wed      6       3      5\n",
       "Thu      8       7      9\n",
       "Fri      9       2      7"
      ]
     },
     "execution_count": 103,
     "metadata": {},
     "output_type": "execute_result"
    }
   ],
   "source": [
    "pd_daily_sales = pd.DataFrame(daily_sales, index = [\"Mon\", \"Tue\", \"Wed\", \"Thu\", \"Fri\"], columns=[\"Shirt\", \"Tshirt\", \"pants\"])\n",
    "pd_daily_sales"
   ]
  },
  {
   "cell_type": "code",
   "execution_count": 104,
   "id": "51f7db65-9dde-4a26-82ad-c276bb4ba0c7",
   "metadata": {},
   "outputs": [
    {
     "data": {
      "text/html": [
       "<div>\n",
       "<style scoped>\n",
       "    .dataframe tbody tr th:only-of-type {\n",
       "        vertical-align: middle;\n",
       "    }\n",
       "\n",
       "    .dataframe tbody tr th {\n",
       "        vertical-align: top;\n",
       "    }\n",
       "\n",
       "    .dataframe thead th {\n",
       "        text-align: right;\n",
       "    }\n",
       "</style>\n",
       "<table border=\"1\" class=\"dataframe\">\n",
       "  <thead>\n",
       "    <tr style=\"text-align: right;\">\n",
       "      <th></th>\n",
       "      <th>Shirt</th>\n",
       "      <th>Tshirt</th>\n",
       "      <th>pants</th>\n",
       "    </tr>\n",
       "  </thead>\n",
       "  <tbody>\n",
       "    <tr>\n",
       "      <th>Price</th>\n",
       "      <td>500</td>\n",
       "      <td>300</td>\n",
       "      <td>700</td>\n",
       "    </tr>\n",
       "  </tbody>\n",
       "</table>\n",
       "</div>"
      ],
      "text/plain": [
       "       Shirt  Tshirt  pants\n",
       "Price    500     300    700"
      ]
     },
     "execution_count": 104,
     "metadata": {},
     "output_type": "execute_result"
    }
   ],
   "source": [
    "prices = np.array([500,300,700])\n",
    "pd_prices = pd.DataFrame(prices.reshape(1,3), index=[\"Price\"], columns=[\"Shirt\", \"Tshirt\", \"pants\"])\n",
    "pd_prices"
   ]
  },
  {
   "cell_type": "code",
   "execution_count": 106,
   "id": "0a236239-6086-42bf-a2ed-6bcd230af460",
   "metadata": {},
   "outputs": [
    {
     "data": {
      "text/html": [
       "<div>\n",
       "<style scoped>\n",
       "    .dataframe tbody tr th:only-of-type {\n",
       "        vertical-align: middle;\n",
       "    }\n",
       "\n",
       "    .dataframe tbody tr th {\n",
       "        vertical-align: top;\n",
       "    }\n",
       "\n",
       "    .dataframe thead th {\n",
       "        text-align: right;\n",
       "    }\n",
       "</style>\n",
       "<table border=\"1\" class=\"dataframe\">\n",
       "  <thead>\n",
       "    <tr style=\"text-align: right;\">\n",
       "      <th></th>\n",
       "      <th>Price</th>\n",
       "    </tr>\n",
       "  </thead>\n",
       "  <tbody>\n",
       "    <tr>\n",
       "      <th>Mon</th>\n",
       "      <td>6100</td>\n",
       "    </tr>\n",
       "    <tr>\n",
       "      <th>Tue</th>\n",
       "      <td>7200</td>\n",
       "    </tr>\n",
       "    <tr>\n",
       "      <th>Wed</th>\n",
       "      <td>7400</td>\n",
       "    </tr>\n",
       "    <tr>\n",
       "      <th>Thu</th>\n",
       "      <td>12400</td>\n",
       "    </tr>\n",
       "    <tr>\n",
       "      <th>Fri</th>\n",
       "      <td>10000</td>\n",
       "    </tr>\n",
       "  </tbody>\n",
       "</table>\n",
       "</div>"
      ],
      "text/plain": [
       "     Price\n",
       "Mon   6100\n",
       "Tue   7200\n",
       "Wed   7400\n",
       "Thu  12400\n",
       "Fri  10000"
      ]
     },
     "execution_count": 106,
     "metadata": {},
     "output_type": "execute_result"
    }
   ],
   "source": [
    "daily_amount = pd_daily_sales.dot(pd_prices.T)\n",
    "daily_amount "
   ]
  },
  {
   "cell_type": "code",
   "execution_count": 109,
   "id": "04575fcc-112c-40d1-93b4-c82c3cb1dcf6",
   "metadata": {},
   "outputs": [
    {
     "data": {
      "text/html": [
       "<div>\n",
       "<style scoped>\n",
       "    .dataframe tbody tr th:only-of-type {\n",
       "        vertical-align: middle;\n",
       "    }\n",
       "\n",
       "    .dataframe tbody tr th {\n",
       "        vertical-align: top;\n",
       "    }\n",
       "\n",
       "    .dataframe thead th {\n",
       "        text-align: right;\n",
       "    }\n",
       "</style>\n",
       "<table border=\"1\" class=\"dataframe\">\n",
       "  <thead>\n",
       "    <tr style=\"text-align: right;\">\n",
       "      <th></th>\n",
       "      <th>Shirt</th>\n",
       "      <th>Tshirt</th>\n",
       "      <th>pants</th>\n",
       "      <th>sales Amount</th>\n",
       "    </tr>\n",
       "  </thead>\n",
       "  <tbody>\n",
       "    <tr>\n",
       "      <th>Mon</th>\n",
       "      <td>6</td>\n",
       "      <td>1</td>\n",
       "      <td>4</td>\n",
       "      <td>6100</td>\n",
       "    </tr>\n",
       "    <tr>\n",
       "      <th>Tue</th>\n",
       "      <td>4</td>\n",
       "      <td>8</td>\n",
       "      <td>4</td>\n",
       "      <td>7200</td>\n",
       "    </tr>\n",
       "    <tr>\n",
       "      <th>Wed</th>\n",
       "      <td>6</td>\n",
       "      <td>3</td>\n",
       "      <td>5</td>\n",
       "      <td>7400</td>\n",
       "    </tr>\n",
       "    <tr>\n",
       "      <th>Thu</th>\n",
       "      <td>8</td>\n",
       "      <td>7</td>\n",
       "      <td>9</td>\n",
       "      <td>12400</td>\n",
       "    </tr>\n",
       "    <tr>\n",
       "      <th>Fri</th>\n",
       "      <td>9</td>\n",
       "      <td>2</td>\n",
       "      <td>7</td>\n",
       "      <td>10000</td>\n",
       "    </tr>\n",
       "  </tbody>\n",
       "</table>\n",
       "</div>"
      ],
      "text/plain": [
       "     Shirt  Tshirt  pants  sales Amount\n",
       "Mon      6       1      4          6100\n",
       "Tue      4       8      4          7200\n",
       "Wed      6       3      5          7400\n",
       "Thu      8       7      9         12400\n",
       "Fri      9       2      7         10000"
      ]
     },
     "execution_count": 109,
     "metadata": {},
     "output_type": "execute_result"
    }
   ],
   "source": [
    "pd_daily_sales[\"sales Amount\"] = daily_amount\n",
    "pd_daily_sales"
   ]
  },
  {
   "cell_type": "code",
   "execution_count": 110,
   "id": "7fe50e23-bab6-46dc-b9bb-5cb978ecd039",
   "metadata": {},
   "outputs": [
    {
     "data": {
      "text/plain": [
       "43100"
      ]
     },
     "execution_count": 110,
     "metadata": {},
     "output_type": "execute_result"
    }
   ],
   "source": [
    "pd_daily_sales[\"sales Amount\"].sum()"
   ]
  },
  {
   "cell_type": "markdown",
   "id": "f83652eb-de91-46b2-bffb-1d204d7f9256",
   "metadata": {},
   "source": [
    "## Comparision operator "
   ]
  },
  {
   "cell_type": "code",
   "execution_count": 113,
   "id": "f7a8002f-1c0b-4cf1-bc82-86542db85479",
   "metadata": {},
   "outputs": [
    {
     "data": {
      "text/plain": [
       "array([1, 2, 3])"
      ]
     },
     "execution_count": 113,
     "metadata": {},
     "output_type": "execute_result"
    }
   ],
   "source": [
    " a1"
   ]
  },
  {
   "cell_type": "code",
   "execution_count": 112,
   "id": "2bdf3065-74c0-429a-bbc5-65efea828cc8",
   "metadata": {},
   "outputs": [
    {
     "data": {
      "text/plain": [
       "array([[1, 2, 3],\n",
       "       [4, 5, 6]])"
      ]
     },
     "execution_count": 112,
     "metadata": {},
     "output_type": "execute_result"
    }
   ],
   "source": [
    "a3"
   ]
  },
  {
   "cell_type": "code",
   "execution_count": 116,
   "id": "2a5889e7-730d-4bf2-9ced-5206707f6445",
   "metadata": {},
   "outputs": [
    {
     "data": {
      "text/plain": [
       "(array([[False, False, False],\n",
       "        [False, False, False]]),\n",
       " array([[ True,  True,  True],\n",
       "        [False, False, False]]))"
      ]
     },
     "execution_count": 116,
     "metadata": {},
     "output_type": "execute_result"
    }
   ],
   "source": [
    "a1 > a3, a1 >= a3 "
   ]
  },
  {
   "cell_type": "code",
   "execution_count": 117,
   "id": "8e0421de-311c-4e05-8ff5-a89da75d5d3e",
   "metadata": {},
   "outputs": [
    {
     "data": {
      "text/plain": [
       "array([ True,  True,  True])"
      ]
     },
     "execution_count": 117,
     "metadata": {},
     "output_type": "execute_result"
    }
   ],
   "source": [
    "a1 == a1 "
   ]
  },
  {
   "cell_type": "code",
   "execution_count": 120,
   "id": "731c8ce3-dad8-44cc-9797-df1b31e68039",
   "metadata": {},
   "outputs": [
    {
     "data": {
      "text/plain": [
       "(array([ True,  True,  True]), array([False, False,  True]))"
      ]
     },
     "execution_count": 120,
     "metadata": {},
     "output_type": "execute_result"
    }
   ],
   "source": [
    "a1 > 0, a1 >= 3"
   ]
  },
  {
   "cell_type": "code",
   "execution_count": 121,
   "id": "f21955d1-cdd1-4d92-b9d9-76ce89b7235f",
   "metadata": {},
   "outputs": [
    {
     "data": {
      "text/plain": [
       "array([-1,  0,  1])"
      ]
     },
     "execution_count": 121,
     "metadata": {},
     "output_type": "execute_result"
    }
   ],
   "source": [
    "a1 - 2"
   ]
  },
  {
   "cell_type": "markdown",
   "id": "cebeb062-44b2-4755-9af1-cf4ef30f39a4",
   "metadata": {},
   "source": [
    "## Sorting array "
   ]
  },
  {
   "cell_type": "code",
   "execution_count": 123,
   "id": "680e1f84-ef2b-400b-b57e-42af46ff877a",
   "metadata": {},
   "outputs": [
    {
     "data": {
      "text/plain": [
       "array([[7, 7, 8, 1, 5],\n",
       "       [9, 8, 9, 4, 3],\n",
       "       [0, 3, 5, 0, 2],\n",
       "       [3, 8, 1, 3, 3],\n",
       "       [3, 7, 0, 1, 9]])"
      ]
     },
     "execution_count": 123,
     "metadata": {},
     "output_type": "execute_result"
    }
   ],
   "source": [
    "mat4 = np.random.randint(10, size = (5,5))\n",
    "mat4"
   ]
  },
  {
   "cell_type": "code",
   "execution_count": 124,
   "id": "267ea557-fa50-4a3f-a9c2-5ec9f386431d",
   "metadata": {},
   "outputs": [
    {
     "data": {
      "text/plain": [
       "array([[1, 5, 7, 7, 8],\n",
       "       [3, 4, 8, 9, 9],\n",
       "       [0, 0, 2, 3, 5],\n",
       "       [1, 3, 3, 3, 8],\n",
       "       [0, 1, 3, 7, 9]])"
      ]
     },
     "execution_count": 124,
     "metadata": {},
     "output_type": "execute_result"
    }
   ],
   "source": [
    "np.sort(mat4)"
   ]
  },
  {
   "cell_type": "code",
   "execution_count": 125,
   "id": "60aa3614-b983-4ab7-a976-d3e5e3538472",
   "metadata": {},
   "outputs": [
    {
     "data": {
      "text/plain": [
       "array([[3, 4, 0, 1, 2],\n",
       "       [4, 3, 1, 0, 2],\n",
       "       [0, 3, 4, 1, 2],\n",
       "       [2, 0, 3, 4, 1],\n",
       "       [2, 3, 0, 1, 4]], dtype=int64)"
      ]
     },
     "execution_count": 125,
     "metadata": {},
     "output_type": "execute_result"
    }
   ],
   "source": [
    "np.argsort(mat4)"
   ]
  },
  {
   "cell_type": "code",
   "execution_count": 128,
   "id": "fa42fdb1-af28-45cd-b219-8e1077a97e7b",
   "metadata": {},
   "outputs": [
    {
     "data": {
      "text/plain": [
       "array([2, 0, 2, 1, 4], dtype=int64)"
      ]
     },
     "execution_count": 128,
     "metadata": {},
     "output_type": "execute_result"
    }
   ],
   "source": [
    "np.argmax(mat4, axis = 1)"
   ]
  },
  {
   "cell_type": "markdown",
   "id": "4d06c9ae-9f51-4168-95e8-cc5cbd4af570",
   "metadata": {},
   "source": [
    "# practical example numpy in action "
   ]
  }
 ],
 "metadata": {
  "kernelspec": {
   "display_name": "Python 3 (ipykernel)",
   "language": "python",
   "name": "python3"
  },
  "language_info": {
   "codemirror_mode": {
    "name": "ipython",
    "version": 3
   },
   "file_extension": ".py",
   "mimetype": "text/x-python",
   "name": "python",
   "nbconvert_exporter": "python",
   "pygments_lexer": "ipython3",
   "version": "3.12.2"
  }
 },
 "nbformat": 4,
 "nbformat_minor": 5
}
