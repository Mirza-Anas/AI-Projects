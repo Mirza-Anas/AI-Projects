{
  "cells": [
    {
      "cell_type": "code",
      "execution_count": null,
      "metadata": {
        "id": "KMN_rQdH9so0"
      },
      "outputs": [],
      "source": [
        "import numpy as np\n",
        "import matplotlib.pyplot as plt\n",
        "import tensorflow as tf\n",
        "%matplotlib inline"
      ]
    },
    {
      "cell_type": "code",
      "execution_count": null,
      "metadata": {
        "id": "jry5a8_7-ECD"
      },
      "outputs": [],
      "source": [
        "from tensorflow.keras.layers import Input, Dense, Conv2D, Flatten, Dropout, BatchNormalization\n",
        "from tensorflow.keras.models import Model\n",
        "from tensorflow.keras.callbacks import EarlyStopping\n",
        "from sklearn.metrics import confusion_matrix, ConfusionMatrixDisplay"
      ]
    },
    {
      "cell_type": "code",
      "execution_count": null,
      "metadata": {
        "colab": {
          "base_uri": "https://localhost:8080/"
        },
        "id": "yudiS00x-hNq",
        "outputId": "bf621fb0-abde-4c9d-fd62-7416da834285"
      },
      "outputs": [
        {
          "data": {
            "text/plain": [
              "(60000, 28, 28)"
            ]
          },
          "execution_count": 24,
          "metadata": {},
          "output_type": "execute_result"
        }
      ],
      "source": [
        "# Loading dataset\n",
        "mnist = tf.keras.datasets.fashion_mnist\n",
        "\n",
        "(X_train, y_train), (X_test, y_test) = mnist.load_data()\n",
        "X_train.shape"
      ]
    },
    {
      "cell_type": "code",
      "execution_count": null,
      "metadata": {
        "id": "Yrq75bq7_CPv"
      },
      "outputs": [],
      "source": [
        "X_train = np.expand_dims(X_train, -1)\n",
        "X_test = np.expand_dims(X_test, -1)"
      ]
    },
    {
      "cell_type": "code",
      "execution_count": null,
      "metadata": {
        "id": "FetEYIvHC-x0"
      },
      "outputs": [],
      "source": [
        "K = len(set(y_train))"
      ]
    },
    {
      "cell_type": "code",
      "execution_count": null,
      "metadata": {
        "id": "O7NUdpbpAvTr"
      },
      "outputs": [],
      "source": [
        "i = Input(shape = X_train[0].shape)\n",
        "x = Conv2D(32, (3,3), strides = 2, activation = \"relu\")(i)\n",
        "x = BatchNormalization()(x)\n",
        "x = Dropout(0.2)(x)\n",
        "x = Conv2D(64, (3,3), strides = 2, activation = \"relu\")(x)\n",
        "x = BatchNormalization()(x)\n",
        "x = Dropout(0.2)(x)\n",
        "x = Conv2D(128, (3,3), strides = 2, activation = \"relu\")(x)\n",
        "x = BatchNormalization()(x)\n",
        "x = Dropout(0.2)(x)\n",
        "x = Flatten()(x)\n",
        "x = Dropout(0.2)(x)\n",
        "x = Dense(256, activation = \"relu\")(x)\n",
        "x = Dropout(0.2)(x)\n",
        "x = Dense(K,activation = \"softmax\")(x)\n",
        "\n",
        "model = Model(i,x)"
      ]
    },
    {
      "cell_type": "code",
      "execution_count": null,
      "metadata": {
        "colab": {
          "background_save": true,
          "base_uri": "https://localhost:8080/"
        },
        "id": "N1fUhPBOAwME",
        "outputId": "ca72c7fc-ed8b-4537-a326-a6f40dc9ed3a"
      },
      "outputs": [
        {
          "name": "stdout",
          "output_type": "stream",
          "text": [
            "Epoch 1/50\n",
            "1875/1875 [==============================] - 41s 21ms/step - loss: 0.5723 - accuracy: 0.7918 - val_loss: 0.4063 - val_accuracy: 0.8506\n",
            "Epoch 2/50\n",
            "1875/1875 [==============================] - 37s 20ms/step - loss: 0.4154 - accuracy: 0.8457 - val_loss: 0.3864 - val_accuracy: 0.8545\n",
            "Epoch 3/50\n",
            "1875/1875 [==============================] - 37s 20ms/step - loss: 0.3752 - accuracy: 0.8593 - val_loss: 0.3411 - val_accuracy: 0.8765\n",
            "Epoch 4/50\n",
            "1875/1875 [==============================] - 38s 20ms/step - loss: 0.3485 - accuracy: 0.8683 - val_loss: 0.3318 - val_accuracy: 0.8800\n",
            "Epoch 5/50\n",
            "1875/1875 [==============================] - 38s 20ms/step - loss: 0.3370 - accuracy: 0.8734 - val_loss: 0.3167 - val_accuracy: 0.8801\n",
            "Epoch 6/50\n",
            "1875/1875 [==============================] - 37s 20ms/step - loss: 0.3204 - accuracy: 0.8795 - val_loss: 0.3159 - val_accuracy: 0.8826\n",
            "Epoch 7/50\n",
            "1875/1875 [==============================] - 38s 20ms/step - loss: 0.3089 - accuracy: 0.8841 - val_loss: 0.3037 - val_accuracy: 0.8857\n",
            "Epoch 8/50\n",
            "1875/1875 [==============================] - 38s 20ms/step - loss: 0.2948 - accuracy: 0.8906 - val_loss: 0.3023 - val_accuracy: 0.8869\n",
            "Epoch 9/50\n",
            "1875/1875 [==============================] - 39s 21ms/step - loss: 0.2870 - accuracy: 0.8929 - val_loss: 0.2925 - val_accuracy: 0.8959\n",
            "Epoch 10/50\n",
            "1875/1875 [==============================] - 37s 20ms/step - loss: 0.2800 - accuracy: 0.8939 - val_loss: 0.2822 - val_accuracy: 0.8952\n",
            "Epoch 11/50\n",
            "1875/1875 [==============================] - 39s 21ms/step - loss: 0.2737 - accuracy: 0.8974 - val_loss: 0.3007 - val_accuracy: 0.8905\n",
            "Epoch 12/50\n",
            "1875/1875 [==============================] - 37s 20ms/step - loss: 0.2678 - accuracy: 0.8989 - val_loss: 0.2719 - val_accuracy: 0.9027\n",
            "Epoch 13/50\n",
            "1875/1875 [==============================] - 37s 20ms/step - loss: 0.2612 - accuracy: 0.9011 - val_loss: 0.2765 - val_accuracy: 0.8997\n",
            "Epoch 14/50\n",
            "1875/1875 [==============================] - 38s 20ms/step - loss: 0.2573 - accuracy: 0.9025 - val_loss: 0.2705 - val_accuracy: 0.9031\n",
            "Epoch 15/50\n",
            "1875/1875 [==============================] - 38s 20ms/step - loss: 0.2519 - accuracy: 0.9038 - val_loss: 0.2664 - val_accuracy: 0.9015\n",
            "Epoch 16/50\n",
            "1875/1875 [==============================] - 39s 21ms/step - loss: 0.2449 - accuracy: 0.9086 - val_loss: 0.2627 - val_accuracy: 0.9064\n",
            "Epoch 17/50\n",
            "1875/1875 [==============================] - 38s 20ms/step - loss: 0.2407 - accuracy: 0.9104 - val_loss: 0.2701 - val_accuracy: 0.9033\n",
            "Epoch 18/50\n",
            "1875/1875 [==============================] - 40s 21ms/step - loss: 0.2397 - accuracy: 0.9096 - val_loss: 0.2749 - val_accuracy: 0.9018\n",
            "Epoch 19/50\n",
            "1875/1875 [==============================] - 37s 20ms/step - loss: 0.2363 - accuracy: 0.9101 - val_loss: 0.2677 - val_accuracy: 0.9031\n",
            "Epoch 20/50\n",
            "1875/1875 [==============================] - 37s 20ms/step - loss: 0.2297 - accuracy: 0.9121 - val_loss: 0.2583 - val_accuracy: 0.9089\n",
            "Epoch 21/50\n",
            "1875/1875 [==============================] - 38s 20ms/step - loss: 0.2274 - accuracy: 0.9134 - val_loss: 0.2687 - val_accuracy: 0.9056\n",
            "Epoch 22/50\n",
            "1875/1875 [==============================] - 36s 19ms/step - loss: 0.2256 - accuracy: 0.9143 - val_loss: 0.2502 - val_accuracy: 0.9120\n",
            "Epoch 23/50\n",
            "1875/1875 [==============================] - 38s 20ms/step - loss: 0.2211 - accuracy: 0.9161 - val_loss: 0.2513 - val_accuracy: 0.9094\n",
            "Epoch 24/50\n",
            "1875/1875 [==============================] - 38s 20ms/step - loss: 0.2171 - accuracy: 0.9176 - val_loss: 0.2711 - val_accuracy: 0.9053\n",
            "Epoch 25/50\n",
            "1875/1875 [==============================] - 36s 19ms/step - loss: 0.2142 - accuracy: 0.9184 - val_loss: 0.2639 - val_accuracy: 0.9073\n",
            "Epoch 26/50\n",
            "1875/1875 [==============================] - 37s 20ms/step - loss: 0.2145 - accuracy: 0.9179 - val_loss: 0.2608 - val_accuracy: 0.9094\n",
            "Epoch 27/50\n",
            "1875/1875 [==============================] - 37s 20ms/step - loss: 0.2110 - accuracy: 0.9206 - val_loss: 0.2524 - val_accuracy: 0.9127\n",
            "Epoch 28/50\n",
            "1875/1875 [==============================] - 38s 20ms/step - loss: 0.2109 - accuracy: 0.9205 - val_loss: 0.2552 - val_accuracy: 0.9100\n",
            "Epoch 29/50\n",
            "1875/1875 [==============================] - 39s 21ms/step - loss: 0.2058 - accuracy: 0.9218 - val_loss: 0.2545 - val_accuracy: 0.9126\n",
            "Epoch 30/50\n",
            "1875/1875 [==============================] - 37s 20ms/step - loss: 0.2042 - accuracy: 0.9227 - val_loss: 0.2782 - val_accuracy: 0.9073\n",
            "Epoch 31/50\n",
            "1875/1875 [==============================] - 37s 19ms/step - loss: 0.2045 - accuracy: 0.9222 - val_loss: 0.2651 - val_accuracy: 0.9064\n",
            "Epoch 32/50\n",
            "1875/1875 [==============================] - 39s 21ms/step - loss: 0.1995 - accuracy: 0.9240 - val_loss: 0.2538 - val_accuracy: 0.9135\n",
            "Epoch 33/50\n",
            "1875/1875 [==============================] - 36s 19ms/step - loss: 0.1963 - accuracy: 0.9242 - val_loss: 0.2490 - val_accuracy: 0.9115\n",
            "Epoch 34/50\n",
            "1875/1875 [==============================] - 35s 19ms/step - loss: 0.1945 - accuracy: 0.9262 - val_loss: 0.2591 - val_accuracy: 0.9098\n",
            "Epoch 35/50\n",
            "1875/1875 [==============================] - 39s 21ms/step - loss: 0.1961 - accuracy: 0.9260 - val_loss: 0.2583 - val_accuracy: 0.9091\n",
            "Epoch 36/50\n",
            "1875/1875 [==============================] - 38s 20ms/step - loss: 0.1955 - accuracy: 0.9259 - val_loss: 0.2472 - val_accuracy: 0.9153\n",
            "Epoch 37/50\n",
            "1875/1875 [==============================] - 38s 20ms/step - loss: 0.1926 - accuracy: 0.9261 - val_loss: 0.2495 - val_accuracy: 0.9140\n",
            "Epoch 38/50\n",
            "1875/1875 [==============================] - 40s 21ms/step - loss: 0.1902 - accuracy: 0.9274 - val_loss: 0.2467 - val_accuracy: 0.9142\n",
            "Epoch 39/50\n",
            "1875/1875 [==============================] - 38s 20ms/step - loss: 0.1870 - accuracy: 0.9280 - val_loss: 0.2528 - val_accuracy: 0.9128\n",
            "Epoch 40/50\n",
            "1875/1875 [==============================] - 39s 21ms/step - loss: 0.1844 - accuracy: 0.9289 - val_loss: 0.2555 - val_accuracy: 0.9109\n",
            "Epoch 41/50\n",
            "1875/1875 [==============================] - 38s 20ms/step - loss: 0.1863 - accuracy: 0.9283 - val_loss: 0.2537 - val_accuracy: 0.9168\n",
            "Epoch 42/50\n",
            "1875/1875 [==============================] - 38s 20ms/step - loss: 0.1871 - accuracy: 0.9299 - val_loss: 0.2493 - val_accuracy: 0.9164\n",
            "Epoch 43/50\n",
            "1875/1875 [==============================] - 38s 20ms/step - loss: 0.1816 - accuracy: 0.9303 - val_loss: 0.2591 - val_accuracy: 0.9133\n",
            "Epoch 44/50\n",
            "1875/1875 [==============================] - 39s 21ms/step - loss: 0.1812 - accuracy: 0.9319 - val_loss: 0.2549 - val_accuracy: 0.9095\n",
            "Epoch 45/50\n",
            "1875/1875 [==============================] - 37s 20ms/step - loss: 0.1825 - accuracy: 0.9311 - val_loss: 0.2648 - val_accuracy: 0.9125\n",
            "Epoch 46/50\n",
            "1875/1875 [==============================] - 39s 21ms/step - loss: 0.1809 - accuracy: 0.9298 - val_loss: 0.2508 - val_accuracy: 0.9124\n"
          ]
        }
      ],
      "source": [
        "model.compile(optimizer=\"adam\",\n",
        "              loss=\"sparse_categorical_crossentropy\",\n",
        "              metrics = [\"accuracy\"])\n",
        "\n",
        "r = model.fit(X_train, y_train, validation_data = (X_test, y_test), epochs = 50, batch_size=32, callbacks=[EarlyStopping(monitor=\"val_accuracy\", patience=5)])"
      ]
    },
    {
      "cell_type": "code",
      "execution_count": null,
      "metadata": {
        "id": "0V0rFNmgF4nQ"
      },
      "outputs": [],
      "source": [
        "plt.plot(r.history[\"loss\"], label = \"loss\")\n",
        "plt.plot(r.history[\"val_loss\"], label = \"val_loss\")\n",
        "plt.legend();"
      ]
    },
    {
      "cell_type": "code",
      "execution_count": null,
      "metadata": {
        "colab": {
          "background_save": true
        },
        "id": "exUccD0OIhfR",
        "outputId": "36e795c9-0760-4dab-98fb-9a443063e5a5"
      },
      "outputs": [
        {
          "data": {
            "image/png": "[encoded data removed]",
            "text/plain": [
              "<Figure size 640x480 with 1 Axes>"
            ]
          },
          "metadata": {},
          "output_type": "display_data"
        }
      ],
      "source": [
        "plt.plot(r.history[\"accuracy\"], label = \"accuracy\")\n",
        "plt.plot(r.history[\"val_accuracy\"], label = \"val_accuracy\")\n",
        "plt.legend();"
      ]
    },
    {
      "cell_type": "code",
      "execution_count": null,
      "metadata": {
        "id": "y3uPv5WaLAUX"
      },
      "outputs": [],
      "source": [
        "y_preds = model.predict(X_test)"
      ]
    },
    {
      "cell_type": "code",
      "execution_count": null,
      "metadata": {
        "id": "ftDvwi2IO0IF"
      },
      "outputs": [],
      "source": [
        "y_preds = y_preds.argmax(axis=1)\n",
        "y_preds"
      ]
    },
    {
      "cell_type": "code",
      "execution_count": null,
      "metadata": {
        "id": "i99HaOeeOcc3"
      },
      "outputs": [],
      "source": [
        "class_names = ['T-shirt/top', 'Trouser', 'Pullover', 'Dress', 'Coat',\n",
        "               'Sandal', 'Shirt', 'Sneaker', 'Bag', 'Ankle boot']"
      ]
    },
    {
      "cell_type": "code",
      "execution_count": null,
      "metadata": {
        "id": "6sHh3irqOO_9"
      },
      "outputs": [],
      "source": [
        "cm = confusion_matrix(y_test, y_preds)\n",
        "matrix = ConfusionMatrixDisplay(cm, display_labels=class_names)\n",
        "matrix.plot(xticks_rotation=\"vertical\");"
      ]
    },
    {
      "cell_type": "code",
      "execution_count": null,
      "metadata": {
        "id": "u2Zayyl4QkfH"
      },
      "outputs": [],
      "source": [
        "wrongIdx = np.where(y_preds != y_test)[0]\n",
        "idx = np.random.choice(wrongIdx)\n",
        "plt.imshow(X_test[idx], cmap = \"gray\")\n",
        "plt.title(f\"Actual: {class_names[y_test[idx]]}   Predicted: {class_names[y_preds[idx]]}\");"
      ]
    }
  ],
  "metadata": {
    "colab": {
      "provenance": []
    },
    "kernelspec": {
      "display_name": "Python 3",
      "name": "python3"
    },
    "language_info": {
      "name": "python"
    }
  },
  "nbformat": 4,
  "nbformat_minor": 0
}